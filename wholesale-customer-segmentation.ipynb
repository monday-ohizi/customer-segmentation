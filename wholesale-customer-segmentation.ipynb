{
 "cells": [
  {
   "cell_type": "code",
   "execution_count": 1,
   "id": "902f4be2",
   "metadata": {
    "execution": {
     "iopub.execute_input": "2025-08-16T00:23:04.902725Z",
     "iopub.status.busy": "2025-08-16T00:23:04.902450Z",
     "iopub.status.idle": "2025-08-16T00:23:08.697178Z",
     "shell.execute_reply": "2025-08-16T00:23:08.696386Z"
    },
    "papermill": {
     "duration": 3.803382,
     "end_time": "2025-08-16T00:23:08.699373",
     "exception": false,
     "start_time": "2025-08-16T00:23:04.895991",
     "status": "completed"
    },
    "tags": []
   },
   "outputs": [],
   "source": [
    "import pandas as pd\n",
    "import numpy as np\n",
    "import matplotlib.pyplot as plt\n",
    "import seaborn as sns"
   ]
  },
  {
   "cell_type": "code",
   "execution_count": 2,
   "id": "74a69dfc",
   "metadata": {
    "execution": {
     "iopub.execute_input": "2025-08-16T00:23:08.713885Z",
     "iopub.status.busy": "2025-08-16T00:23:08.713074Z",
     "iopub.status.idle": "2025-08-16T00:23:08.756226Z",
     "shell.execute_reply": "2025-08-16T00:23:08.755360Z"
    },
    "papermill": {
     "duration": 0.052031,
     "end_time": "2025-08-16T00:23:08.757824",
     "exception": false,
     "start_time": "2025-08-16T00:23:08.705793",
     "status": "completed"
    },
    "tags": []
   },
   "outputs": [
    {
     "data": {
      "text/html": [
       "<div>\n",
       "<style scoped>\n",
       "    .dataframe tbody tr th:only-of-type {\n",
       "        vertical-align: middle;\n",
       "    }\n",
       "\n",
       "    .dataframe tbody tr th {\n",
       "        vertical-align: top;\n",
       "    }\n",
       "\n",
       "    .dataframe thead th {\n",
       "        text-align: right;\n",
       "    }\n",
       "</style>\n",
       "<table border=\"1\" class=\"dataframe\">\n",
       "  <thead>\n",
       "    <tr style=\"text-align: right;\">\n",
       "      <th></th>\n",
       "      <th>Channel</th>\n",
       "      <th>Region</th>\n",
       "      <th>Fresh</th>\n",
       "      <th>Milk</th>\n",
       "      <th>Grocery</th>\n",
       "      <th>Frozen</th>\n",
       "      <th>Detergents_Paper</th>\n",
       "      <th>Delicassen</th>\n",
       "    </tr>\n",
       "  </thead>\n",
       "  <tbody>\n",
       "    <tr>\n",
       "      <th>0</th>\n",
       "      <td>2</td>\n",
       "      <td>3</td>\n",
       "      <td>12669</td>\n",
       "      <td>9656</td>\n",
       "      <td>7561</td>\n",
       "      <td>214</td>\n",
       "      <td>2674</td>\n",
       "      <td>1338</td>\n",
       "    </tr>\n",
       "    <tr>\n",
       "      <th>1</th>\n",
       "      <td>2</td>\n",
       "      <td>3</td>\n",
       "      <td>7057</td>\n",
       "      <td>9810</td>\n",
       "      <td>9568</td>\n",
       "      <td>1762</td>\n",
       "      <td>3293</td>\n",
       "      <td>1776</td>\n",
       "    </tr>\n",
       "    <tr>\n",
       "      <th>2</th>\n",
       "      <td>2</td>\n",
       "      <td>3</td>\n",
       "      <td>6353</td>\n",
       "      <td>8808</td>\n",
       "      <td>7684</td>\n",
       "      <td>2405</td>\n",
       "      <td>3516</td>\n",
       "      <td>7844</td>\n",
       "    </tr>\n",
       "    <tr>\n",
       "      <th>3</th>\n",
       "      <td>1</td>\n",
       "      <td>3</td>\n",
       "      <td>13265</td>\n",
       "      <td>1196</td>\n",
       "      <td>4221</td>\n",
       "      <td>6404</td>\n",
       "      <td>507</td>\n",
       "      <td>1788</td>\n",
       "    </tr>\n",
       "    <tr>\n",
       "      <th>4</th>\n",
       "      <td>2</td>\n",
       "      <td>3</td>\n",
       "      <td>22615</td>\n",
       "      <td>5410</td>\n",
       "      <td>7198</td>\n",
       "      <td>3915</td>\n",
       "      <td>1777</td>\n",
       "      <td>5185</td>\n",
       "    </tr>\n",
       "    <tr>\n",
       "      <th>5</th>\n",
       "      <td>2</td>\n",
       "      <td>3</td>\n",
       "      <td>9413</td>\n",
       "      <td>8259</td>\n",
       "      <td>5126</td>\n",
       "      <td>666</td>\n",
       "      <td>1795</td>\n",
       "      <td>1451</td>\n",
       "    </tr>\n",
       "    <tr>\n",
       "      <th>6</th>\n",
       "      <td>2</td>\n",
       "      <td>3</td>\n",
       "      <td>12126</td>\n",
       "      <td>3199</td>\n",
       "      <td>6975</td>\n",
       "      <td>480</td>\n",
       "      <td>3140</td>\n",
       "      <td>545</td>\n",
       "    </tr>\n",
       "    <tr>\n",
       "      <th>7</th>\n",
       "      <td>2</td>\n",
       "      <td>3</td>\n",
       "      <td>7579</td>\n",
       "      <td>4956</td>\n",
       "      <td>9426</td>\n",
       "      <td>1669</td>\n",
       "      <td>3321</td>\n",
       "      <td>2566</td>\n",
       "    </tr>\n",
       "    <tr>\n",
       "      <th>8</th>\n",
       "      <td>1</td>\n",
       "      <td>3</td>\n",
       "      <td>5963</td>\n",
       "      <td>3648</td>\n",
       "      <td>6192</td>\n",
       "      <td>425</td>\n",
       "      <td>1716</td>\n",
       "      <td>750</td>\n",
       "    </tr>\n",
       "    <tr>\n",
       "      <th>9</th>\n",
       "      <td>2</td>\n",
       "      <td>3</td>\n",
       "      <td>6006</td>\n",
       "      <td>11093</td>\n",
       "      <td>18881</td>\n",
       "      <td>1159</td>\n",
       "      <td>7425</td>\n",
       "      <td>2098</td>\n",
       "    </tr>\n",
       "  </tbody>\n",
       "</table>\n",
       "</div>"
      ],
      "text/plain": [
       "   Channel  Region  Fresh   Milk  Grocery  Frozen  Detergents_Paper  \\\n",
       "0        2       3  12669   9656     7561     214              2674   \n",
       "1        2       3   7057   9810     9568    1762              3293   \n",
       "2        2       3   6353   8808     7684    2405              3516   \n",
       "3        1       3  13265   1196     4221    6404               507   \n",
       "4        2       3  22615   5410     7198    3915              1777   \n",
       "5        2       3   9413   8259     5126     666              1795   \n",
       "6        2       3  12126   3199     6975     480              3140   \n",
       "7        2       3   7579   4956     9426    1669              3321   \n",
       "8        1       3   5963   3648     6192     425              1716   \n",
       "9        2       3   6006  11093    18881    1159              7425   \n",
       "\n",
       "   Delicassen  \n",
       "0        1338  \n",
       "1        1776  \n",
       "2        7844  \n",
       "3        1788  \n",
       "4        5185  \n",
       "5        1451  \n",
       "6         545  \n",
       "7        2566  \n",
       "8         750  \n",
       "9        2098  "
      ]
     },
     "execution_count": 2,
     "metadata": {},
     "output_type": "execute_result"
    }
   ],
   "source": [
    "#import data\n",
    "\n",
    "df = pd.read_csv('/kaggle/input/wholesale-customers-data-set/Wholesale customers data.csv')\n",
    "\n",
    "df.head(10)"
   ]
  },
  {
   "cell_type": "code",
   "execution_count": 3,
   "id": "45d1ff5b",
   "metadata": {
    "execution": {
     "iopub.execute_input": "2025-08-16T00:23:08.768661Z",
     "iopub.status.busy": "2025-08-16T00:23:08.768236Z",
     "iopub.status.idle": "2025-08-16T00:23:08.792749Z",
     "shell.execute_reply": "2025-08-16T00:23:08.791733Z"
    },
    "papermill": {
     "duration": 0.031817,
     "end_time": "2025-08-16T00:23:08.794454",
     "exception": false,
     "start_time": "2025-08-16T00:23:08.762637",
     "status": "completed"
    },
    "tags": []
   },
   "outputs": [
    {
     "name": "stdout",
     "output_type": "stream",
     "text": [
      "(440, 8)\n",
      "<class 'pandas.core.frame.DataFrame'>\n",
      "RangeIndex: 440 entries, 0 to 439\n",
      "Data columns (total 8 columns):\n",
      " #   Column            Non-Null Count  Dtype\n",
      "---  ------            --------------  -----\n",
      " 0   Channel           440 non-null    int64\n",
      " 1   Region            440 non-null    int64\n",
      " 2   Fresh             440 non-null    int64\n",
      " 3   Milk              440 non-null    int64\n",
      " 4   Grocery           440 non-null    int64\n",
      " 5   Frozen            440 non-null    int64\n",
      " 6   Detergents_Paper  440 non-null    int64\n",
      " 7   Delicassen        440 non-null    int64\n",
      "dtypes: int64(8)\n",
      "memory usage: 27.6 KB\n",
      "None\n",
      "0\n",
      "Channel             0\n",
      "Region              0\n",
      "Fresh               0\n",
      "Milk                0\n",
      "Grocery             0\n",
      "Frozen              0\n",
      "Detergents_Paper    0\n",
      "Delicassen          0\n",
      "dtype: int64\n"
     ]
    }
   ],
   "source": [
    "print(df.shape)\n",
    "print(df.info())\n",
    "print(df.duplicated().sum())\n",
    "print(df.isnull().sum())"
   ]
  },
  {
   "cell_type": "code",
   "execution_count": 4,
   "id": "3cd0f60d",
   "metadata": {
    "execution": {
     "iopub.execute_input": "2025-08-16T00:23:08.805166Z",
     "iopub.status.busy": "2025-08-16T00:23:08.804835Z",
     "iopub.status.idle": "2025-08-16T00:23:08.810977Z",
     "shell.execute_reply": "2025-08-16T00:23:08.809956Z"
    },
    "papermill": {
     "duration": 0.013069,
     "end_time": "2025-08-16T00:23:08.812356",
     "exception": false,
     "start_time": "2025-08-16T00:23:08.799287",
     "status": "completed"
    },
    "tags": []
   },
   "outputs": [
    {
     "data": {
      "text/plain": [
       "Index(['Channel', 'Region', 'Fresh', 'Milk', 'Grocery', 'Frozen',\n",
       "       'Detergents_Paper', 'Delicassen'],\n",
       "      dtype='object')"
      ]
     },
     "execution_count": 4,
     "metadata": {},
     "output_type": "execute_result"
    }
   ],
   "source": [
    "df.columns"
   ]
  },
  {
   "cell_type": "markdown",
   "id": "0a581fdb",
   "metadata": {
    "papermill": {
     "duration": 0.00457,
     "end_time": "2025-08-16T00:23:08.821903",
     "exception": false,
     "start_time": "2025-08-16T00:23:08.817333",
     "status": "completed"
    },
    "tags": []
   },
   "source": [
    "**EDA**"
   ]
  },
  {
   "cell_type": "code",
   "execution_count": 5,
   "id": "16ea1537",
   "metadata": {
    "execution": {
     "iopub.execute_input": "2025-08-16T00:23:08.832731Z",
     "iopub.status.busy": "2025-08-16T00:23:08.831947Z",
     "iopub.status.idle": "2025-08-16T00:23:08.841838Z",
     "shell.execute_reply": "2025-08-16T00:23:08.840727Z"
    },
    "papermill": {
     "duration": 0.016825,
     "end_time": "2025-08-16T00:23:08.843380",
     "exception": false,
     "start_time": "2025-08-16T00:23:08.826555",
     "status": "completed"
    },
    "tags": []
   },
   "outputs": [
    {
     "data": {
      "text/plain": [
       "Channel               2\n",
       "Region                3\n",
       "Fresh               433\n",
       "Milk                421\n",
       "Grocery             430\n",
       "Frozen              426\n",
       "Detergents_Paper    417\n",
       "Delicassen          403\n",
       "dtype: int64"
      ]
     },
     "execution_count": 5,
     "metadata": {},
     "output_type": "execute_result"
    }
   ],
   "source": [
    "#check the number of unique values in each cols\n",
    "\n",
    "df.nunique()"
   ]
  },
  {
   "cell_type": "code",
   "execution_count": 6,
   "id": "86e56a2b",
   "metadata": {
    "execution": {
     "iopub.execute_input": "2025-08-16T00:23:08.855848Z",
     "iopub.status.busy": "2025-08-16T00:23:08.855570Z",
     "iopub.status.idle": "2025-08-16T00:23:08.882863Z",
     "shell.execute_reply": "2025-08-16T00:23:08.881808Z"
    },
    "papermill": {
     "duration": 0.03595,
     "end_time": "2025-08-16T00:23:08.884522",
     "exception": false,
     "start_time": "2025-08-16T00:23:08.848572",
     "status": "completed"
    },
    "tags": []
   },
   "outputs": [
    {
     "data": {
      "text/html": [
       "<div>\n",
       "<style scoped>\n",
       "    .dataframe tbody tr th:only-of-type {\n",
       "        vertical-align: middle;\n",
       "    }\n",
       "\n",
       "    .dataframe tbody tr th {\n",
       "        vertical-align: top;\n",
       "    }\n",
       "\n",
       "    .dataframe thead th {\n",
       "        text-align: right;\n",
       "    }\n",
       "</style>\n",
       "<table border=\"1\" class=\"dataframe\">\n",
       "  <thead>\n",
       "    <tr style=\"text-align: right;\">\n",
       "      <th></th>\n",
       "      <th>Channel</th>\n",
       "      <th>Region</th>\n",
       "      <th>Fresh</th>\n",
       "      <th>Milk</th>\n",
       "      <th>Grocery</th>\n",
       "      <th>Frozen</th>\n",
       "      <th>Detergents_Paper</th>\n",
       "      <th>Delicassen</th>\n",
       "    </tr>\n",
       "  </thead>\n",
       "  <tbody>\n",
       "    <tr>\n",
       "      <th>count</th>\n",
       "      <td>440.000000</td>\n",
       "      <td>440.000000</td>\n",
       "      <td>440.000000</td>\n",
       "      <td>440.000000</td>\n",
       "      <td>440.000000</td>\n",
       "      <td>440.000000</td>\n",
       "      <td>440.000000</td>\n",
       "      <td>440.000000</td>\n",
       "    </tr>\n",
       "    <tr>\n",
       "      <th>mean</th>\n",
       "      <td>1.322727</td>\n",
       "      <td>2.543182</td>\n",
       "      <td>12000.297727</td>\n",
       "      <td>5796.265909</td>\n",
       "      <td>7951.277273</td>\n",
       "      <td>3071.931818</td>\n",
       "      <td>2881.493182</td>\n",
       "      <td>1524.870455</td>\n",
       "    </tr>\n",
       "    <tr>\n",
       "      <th>std</th>\n",
       "      <td>0.468052</td>\n",
       "      <td>0.774272</td>\n",
       "      <td>12647.328865</td>\n",
       "      <td>7380.377175</td>\n",
       "      <td>9503.162829</td>\n",
       "      <td>4854.673333</td>\n",
       "      <td>4767.854448</td>\n",
       "      <td>2820.105937</td>\n",
       "    </tr>\n",
       "    <tr>\n",
       "      <th>min</th>\n",
       "      <td>1.000000</td>\n",
       "      <td>1.000000</td>\n",
       "      <td>3.000000</td>\n",
       "      <td>55.000000</td>\n",
       "      <td>3.000000</td>\n",
       "      <td>25.000000</td>\n",
       "      <td>3.000000</td>\n",
       "      <td>3.000000</td>\n",
       "    </tr>\n",
       "    <tr>\n",
       "      <th>25%</th>\n",
       "      <td>1.000000</td>\n",
       "      <td>2.000000</td>\n",
       "      <td>3127.750000</td>\n",
       "      <td>1533.000000</td>\n",
       "      <td>2153.000000</td>\n",
       "      <td>742.250000</td>\n",
       "      <td>256.750000</td>\n",
       "      <td>408.250000</td>\n",
       "    </tr>\n",
       "    <tr>\n",
       "      <th>50%</th>\n",
       "      <td>1.000000</td>\n",
       "      <td>3.000000</td>\n",
       "      <td>8504.000000</td>\n",
       "      <td>3627.000000</td>\n",
       "      <td>4755.500000</td>\n",
       "      <td>1526.000000</td>\n",
       "      <td>816.500000</td>\n",
       "      <td>965.500000</td>\n",
       "    </tr>\n",
       "    <tr>\n",
       "      <th>75%</th>\n",
       "      <td>2.000000</td>\n",
       "      <td>3.000000</td>\n",
       "      <td>16933.750000</td>\n",
       "      <td>7190.250000</td>\n",
       "      <td>10655.750000</td>\n",
       "      <td>3554.250000</td>\n",
       "      <td>3922.000000</td>\n",
       "      <td>1820.250000</td>\n",
       "    </tr>\n",
       "    <tr>\n",
       "      <th>max</th>\n",
       "      <td>2.000000</td>\n",
       "      <td>3.000000</td>\n",
       "      <td>112151.000000</td>\n",
       "      <td>73498.000000</td>\n",
       "      <td>92780.000000</td>\n",
       "      <td>60869.000000</td>\n",
       "      <td>40827.000000</td>\n",
       "      <td>47943.000000</td>\n",
       "    </tr>\n",
       "  </tbody>\n",
       "</table>\n",
       "</div>"
      ],
      "text/plain": [
       "          Channel      Region          Fresh          Milk       Grocery  \\\n",
       "count  440.000000  440.000000     440.000000    440.000000    440.000000   \n",
       "mean     1.322727    2.543182   12000.297727   5796.265909   7951.277273   \n",
       "std      0.468052    0.774272   12647.328865   7380.377175   9503.162829   \n",
       "min      1.000000    1.000000       3.000000     55.000000      3.000000   \n",
       "25%      1.000000    2.000000    3127.750000   1533.000000   2153.000000   \n",
       "50%      1.000000    3.000000    8504.000000   3627.000000   4755.500000   \n",
       "75%      2.000000    3.000000   16933.750000   7190.250000  10655.750000   \n",
       "max      2.000000    3.000000  112151.000000  73498.000000  92780.000000   \n",
       "\n",
       "             Frozen  Detergents_Paper    Delicassen  \n",
       "count    440.000000        440.000000    440.000000  \n",
       "mean    3071.931818       2881.493182   1524.870455  \n",
       "std     4854.673333       4767.854448   2820.105937  \n",
       "min       25.000000          3.000000      3.000000  \n",
       "25%      742.250000        256.750000    408.250000  \n",
       "50%     1526.000000        816.500000    965.500000  \n",
       "75%     3554.250000       3922.000000   1820.250000  \n",
       "max    60869.000000      40827.000000  47943.000000  "
      ]
     },
     "execution_count": 6,
     "metadata": {},
     "output_type": "execute_result"
    }
   ],
   "source": [
    "#check basic statistics\n",
    "\n",
    "df.describe() "
   ]
  },
  {
   "cell_type": "code",
   "execution_count": 7,
   "id": "d3b14829",
   "metadata": {
    "execution": {
     "iopub.execute_input": "2025-08-16T00:23:08.895682Z",
     "iopub.status.busy": "2025-08-16T00:23:08.895402Z",
     "iopub.status.idle": "2025-08-16T00:23:10.025025Z",
     "shell.execute_reply": "2025-08-16T00:23:10.024232Z"
    },
    "papermill": {
     "duration": 1.136745,
     "end_time": "2025-08-16T00:23:10.026289",
     "exception": false,
     "start_time": "2025-08-16T00:23:08.889544",
     "status": "completed"
    },
    "tags": []
   },
   "outputs": [
    {
     "data": {
      "image/png": "[encoded data removed]",
      "text/plain": [
       "<Figure size 1200x800 with 9 Axes>"
      ]
     },
     "metadata": {},
     "output_type": "display_data"
    }
   ],
   "source": [
    "#distrbution of numerical cols\n",
    "\n",
    "\n",
    "df.hist(bins=20, figsize=(12, 8)) #use countplot for categorical variables\n",
    "plt.show()\n"
   ]
  },
  {
   "cell_type": "code",
   "execution_count": 8,
   "id": "a2af170f",
   "metadata": {
    "execution": {
     "iopub.execute_input": "2025-08-16T00:23:10.040601Z",
     "iopub.status.busy": "2025-08-16T00:23:10.040344Z",
     "iopub.status.idle": "2025-08-16T00:23:10.220443Z",
     "shell.execute_reply": "2025-08-16T00:23:10.219416Z"
    },
    "papermill": {
     "duration": 0.189317,
     "end_time": "2025-08-16T00:23:10.221818",
     "exception": false,
     "start_time": "2025-08-16T00:23:10.032501",
     "status": "completed"
    },
    "tags": []
   },
   "outputs": [
    {
     "name": "stdout",
     "output_type": "stream",
     "text": [
      "                  Q1 (25%)  Median (Q2)  Q3 (75%)       IQR  Lower Bound  \\\n",
      "Fresh              3127.75       8504.0  16933.75  13806.00   -17581.250   \n",
      "Milk               1533.00       3627.0   7190.25   5657.25    -6952.875   \n",
      "Grocery            2153.00       4755.5  10655.75   8502.75   -10601.125   \n",
      "Frozen              742.25       1526.0   3554.25   2812.00    -3475.750   \n",
      "Detergents_Paper    256.75        816.5   3922.00   3665.25    -5241.125   \n",
      "Delicassen          408.25        965.5   1820.25   1412.00    -1709.750   \n",
      "\n",
      "                  Upper Bound  \n",
      "Fresh               37642.750  \n",
      "Milk                15676.125  \n",
      "Grocery             23409.875  \n",
      "Frozen               7772.250  \n",
      "Detergents_Paper     9419.875  \n",
      "Delicassen           3938.250  \n"
     ]
    },
    {
     "data": {
      "image/png": "[encoded data removed]",
      "text/plain": [
       "<Figure size 1200x800 with 1 Axes>"
      ]
     },
     "metadata": {},
     "output_type": "display_data"
    }
   ],
   "source": [
    "#use boxplot to check for outliers in spending cols\n",
    "\n",
    "# Select only numerical spending columns\n",
    "num_cols = ['Fresh', 'Milk', 'Grocery', 'Frozen', 'Detergents_Paper', 'Delicassen']\n",
    "\n",
    "# Calculate Q1, Median, Q3, IQR\n",
    "q1 = df[num_cols].quantile(0.25)\n",
    "median = df[num_cols].quantile(0.50)\n",
    "q3 = df[num_cols].quantile(0.75)\n",
    "iqr = q3 - q1\n",
    "\n",
    "# Calculate outlier thresholds\n",
    "lower_bound = q1 - 1.5 * iqr\n",
    "upper_bound = q3 + 1.5 * iqr\n",
    "\n",
    "\n",
    "# Combine into one DataFrame for readability\n",
    "box_stats = pd.DataFrame({\n",
    "    'Q1 (25%)': q1,\n",
    "    'Median (Q2)': median,\n",
    "    'Q3 (75%)': q3,\n",
    "    'IQR': iqr,\n",
    "    'Lower Bound': lower_bound,\n",
    "    'Upper Bound': upper_bound\n",
    "})\n",
    "\n",
    "print(box_stats)\n",
    "\n",
    "\n",
    "plt.figure(figsize=(12,8))\n",
    "sns.boxplot(data=df.drop(['Channel', 'Region'], axis=1))\n",
    "plt.xticks(rotation=45)\n",
    "plt.show()"
   ]
  },
  {
   "cell_type": "code",
   "execution_count": 9,
   "id": "ac288c59",
   "metadata": {
    "execution": {
     "iopub.execute_input": "2025-08-16T00:23:10.236452Z",
     "iopub.status.busy": "2025-08-16T00:23:10.235991Z",
     "iopub.status.idle": "2025-08-16T00:23:10.260144Z",
     "shell.execute_reply": "2025-08-16T00:23:10.259060Z"
    },
    "papermill": {
     "duration": 0.032876,
     "end_time": "2025-08-16T00:23:10.261516",
     "exception": false,
     "start_time": "2025-08-16T00:23:10.228640",
     "status": "completed"
    },
    "tags": []
   },
   "outputs": [
    {
     "name": "stdout",
     "output_type": "stream",
     "text": [
      "                  Outlier Count\n",
      "Fresh                        20\n",
      "Milk                         28\n",
      "Grocery                      24\n",
      "Frozen                       43\n",
      "Detergents_Paper             30\n",
      "Delicassen                   27\n"
     ]
    }
   ],
   "source": [
    "# Count outliers for each column\n",
    "outlier_counts = {}\n",
    "\n",
    "for col in num_cols:\n",
    "    q1 = df[col].quantile(0.25)\n",
    "    q3 = df[col].quantile(0.75)\n",
    "    iqr = q3 - q1\n",
    "    lower_bound = q1 - 1.5 * iqr\n",
    "    upper_bound = q3 + 1.5 * iqr\n",
    "    \n",
    "    # Count rows outside bounds\n",
    "    outliers = df[(df[col] < lower_bound) | (df[col] > upper_bound)]\n",
    "    outlier_counts[col] = outliers.shape[0]\n",
    "\n",
    "# Display results\n",
    "outlier_counts_df = pd.DataFrame.from_dict(outlier_counts, orient='index', columns=['Outlier Count'])\n",
    "print(outlier_counts_df)\n"
   ]
  },
  {
   "cell_type": "code",
   "execution_count": 10,
   "id": "35662f3d",
   "metadata": {
    "execution": {
     "iopub.execute_input": "2025-08-16T00:23:10.276127Z",
     "iopub.status.busy": "2025-08-16T00:23:10.275790Z",
     "iopub.status.idle": "2025-08-16T00:23:10.289802Z",
     "shell.execute_reply": "2025-08-16T00:23:10.289029Z"
    },
    "papermill": {
     "duration": 0.022666,
     "end_time": "2025-08-16T00:23:10.291053",
     "exception": false,
     "start_time": "2025-08-16T00:23:10.268387",
     "status": "completed"
    },
    "tags": []
   },
   "outputs": [
    {
     "data": {
      "text/html": [
       "<div>\n",
       "<style scoped>\n",
       "    .dataframe tbody tr th:only-of-type {\n",
       "        vertical-align: middle;\n",
       "    }\n",
       "\n",
       "    .dataframe tbody tr th {\n",
       "        vertical-align: top;\n",
       "    }\n",
       "\n",
       "    .dataframe thead th {\n",
       "        text-align: right;\n",
       "    }\n",
       "</style>\n",
       "<table border=\"1\" class=\"dataframe\">\n",
       "  <thead>\n",
       "    <tr style=\"text-align: right;\">\n",
       "      <th></th>\n",
       "      <th>Channel</th>\n",
       "      <th>Region</th>\n",
       "      <th>Fresh</th>\n",
       "      <th>Milk</th>\n",
       "      <th>Grocery</th>\n",
       "      <th>Frozen</th>\n",
       "      <th>Detergents_Paper</th>\n",
       "      <th>Delicassen</th>\n",
       "    </tr>\n",
       "  </thead>\n",
       "  <tbody>\n",
       "    <tr>\n",
       "      <th>Channel</th>\n",
       "      <td>1.000000</td>\n",
       "      <td>0.062028</td>\n",
       "      <td>-0.169172</td>\n",
       "      <td>0.460720</td>\n",
       "      <td>0.608792</td>\n",
       "      <td>-0.202046</td>\n",
       "      <td>0.636026</td>\n",
       "      <td>0.056011</td>\n",
       "    </tr>\n",
       "    <tr>\n",
       "      <th>Region</th>\n",
       "      <td>0.062028</td>\n",
       "      <td>1.000000</td>\n",
       "      <td>0.055287</td>\n",
       "      <td>0.032288</td>\n",
       "      <td>0.007696</td>\n",
       "      <td>-0.021044</td>\n",
       "      <td>-0.001483</td>\n",
       "      <td>0.045212</td>\n",
       "    </tr>\n",
       "    <tr>\n",
       "      <th>Fresh</th>\n",
       "      <td>-0.169172</td>\n",
       "      <td>0.055287</td>\n",
       "      <td>1.000000</td>\n",
       "      <td>0.100510</td>\n",
       "      <td>-0.011854</td>\n",
       "      <td>0.345881</td>\n",
       "      <td>-0.101953</td>\n",
       "      <td>0.244690</td>\n",
       "    </tr>\n",
       "    <tr>\n",
       "      <th>Milk</th>\n",
       "      <td>0.460720</td>\n",
       "      <td>0.032288</td>\n",
       "      <td>0.100510</td>\n",
       "      <td>1.000000</td>\n",
       "      <td>0.728335</td>\n",
       "      <td>0.123994</td>\n",
       "      <td>0.661816</td>\n",
       "      <td>0.406368</td>\n",
       "    </tr>\n",
       "    <tr>\n",
       "      <th>Grocery</th>\n",
       "      <td>0.608792</td>\n",
       "      <td>0.007696</td>\n",
       "      <td>-0.011854</td>\n",
       "      <td>0.728335</td>\n",
       "      <td>1.000000</td>\n",
       "      <td>-0.040193</td>\n",
       "      <td>0.924641</td>\n",
       "      <td>0.205497</td>\n",
       "    </tr>\n",
       "    <tr>\n",
       "      <th>Frozen</th>\n",
       "      <td>-0.202046</td>\n",
       "      <td>-0.021044</td>\n",
       "      <td>0.345881</td>\n",
       "      <td>0.123994</td>\n",
       "      <td>-0.040193</td>\n",
       "      <td>1.000000</td>\n",
       "      <td>-0.131525</td>\n",
       "      <td>0.390947</td>\n",
       "    </tr>\n",
       "    <tr>\n",
       "      <th>Detergents_Paper</th>\n",
       "      <td>0.636026</td>\n",
       "      <td>-0.001483</td>\n",
       "      <td>-0.101953</td>\n",
       "      <td>0.661816</td>\n",
       "      <td>0.924641</td>\n",
       "      <td>-0.131525</td>\n",
       "      <td>1.000000</td>\n",
       "      <td>0.069291</td>\n",
       "    </tr>\n",
       "    <tr>\n",
       "      <th>Delicassen</th>\n",
       "      <td>0.056011</td>\n",
       "      <td>0.045212</td>\n",
       "      <td>0.244690</td>\n",
       "      <td>0.406368</td>\n",
       "      <td>0.205497</td>\n",
       "      <td>0.390947</td>\n",
       "      <td>0.069291</td>\n",
       "      <td>1.000000</td>\n",
       "    </tr>\n",
       "  </tbody>\n",
       "</table>\n",
       "</div>"
      ],
      "text/plain": [
       "                   Channel    Region     Fresh      Milk   Grocery    Frozen  \\\n",
       "Channel           1.000000  0.062028 -0.169172  0.460720  0.608792 -0.202046   \n",
       "Region            0.062028  1.000000  0.055287  0.032288  0.007696 -0.021044   \n",
       "Fresh            -0.169172  0.055287  1.000000  0.100510 -0.011854  0.345881   \n",
       "Milk              0.460720  0.032288  0.100510  1.000000  0.728335  0.123994   \n",
       "Grocery           0.608792  0.007696 -0.011854  0.728335  1.000000 -0.040193   \n",
       "Frozen           -0.202046 -0.021044  0.345881  0.123994 -0.040193  1.000000   \n",
       "Detergents_Paper  0.636026 -0.001483 -0.101953  0.661816  0.924641 -0.131525   \n",
       "Delicassen        0.056011  0.045212  0.244690  0.406368  0.205497  0.390947   \n",
       "\n",
       "                  Detergents_Paper  Delicassen  \n",
       "Channel                   0.636026    0.056011  \n",
       "Region                   -0.001483    0.045212  \n",
       "Fresh                    -0.101953    0.244690  \n",
       "Milk                      0.661816    0.406368  \n",
       "Grocery                   0.924641    0.205497  \n",
       "Frozen                   -0.131525    0.390947  \n",
       "Detergents_Paper          1.000000    0.069291  \n",
       "Delicassen                0.069291    1.000000  "
      ]
     },
     "execution_count": 10,
     "metadata": {},
     "output_type": "execute_result"
    }
   ],
   "source": [
    "#check for corrlation\n",
    "\n",
    "df.corr()"
   ]
  },
  {
   "cell_type": "code",
   "execution_count": 11,
   "id": "5c90f5e3",
   "metadata": {
    "execution": {
     "iopub.execute_input": "2025-08-16T00:23:10.306194Z",
     "iopub.status.busy": "2025-08-16T00:23:10.305873Z",
     "iopub.status.idle": "2025-08-16T00:23:10.611068Z",
     "shell.execute_reply": "2025-08-16T00:23:10.610123Z"
    },
    "papermill": {
     "duration": 0.31479,
     "end_time": "2025-08-16T00:23:10.612871",
     "exception": false,
     "start_time": "2025-08-16T00:23:10.298081",
     "status": "completed"
    },
    "tags": []
   },
   "outputs": [
    {
     "data": {
      "image/png": "[encoded data removed]",
      "text/plain": [
       "<Figure size 800x600 with 2 Axes>"
      ]
     },
     "metadata": {},
     "output_type": "display_data"
    }
   ],
   "source": [
    "#correlation heatmap\n",
    "\n",
    "plt.figure(figsize=(8,6))\n",
    "sns.heatmap(df.corr(), annot=True, cmap='coolwarm')\n",
    "plt.show()\n"
   ]
  },
  {
   "cell_type": "markdown",
   "id": "61f39215",
   "metadata": {
    "papermill": {
     "duration": 0.00826,
     "end_time": "2025-08-16T00:23:10.629542",
     "exception": false,
     "start_time": "2025-08-16T00:23:10.621282",
     "status": "completed"
    },
    "tags": []
   },
   "source": [
    "**PREPROCESSING FOR CLUSTERING**"
   ]
  },
  {
   "cell_type": "code",
   "execution_count": 12,
   "id": "4656343b",
   "metadata": {
    "execution": {
     "iopub.execute_input": "2025-08-16T00:23:10.647694Z",
     "iopub.status.busy": "2025-08-16T00:23:10.647049Z",
     "iopub.status.idle": "2025-08-16T00:23:10.847370Z",
     "shell.execute_reply": "2025-08-16T00:23:10.846304Z"
    },
    "papermill": {
     "duration": 0.211518,
     "end_time": "2025-08-16T00:23:10.848976",
     "exception": false,
     "start_time": "2025-08-16T00:23:10.637458",
     "status": "completed"
    },
    "tags": []
   },
   "outputs": [],
   "source": [
    "#Drop the categorical columns (Channel, Region) to cluster only on spending amounts:\n",
    "\n",
    "#select features for clustering\n",
    "\n",
    "from sklearn.preprocessing import StandardScaler\n",
    "\n",
    "X = df.drop(['Channel', 'Region'], axis=1)\n",
    "\n",
    "#scale features using standard scaler\n",
    "\n",
    "scaler = StandardScaler()\n",
    "X_scaled = scaler.fit_transform(X)"
   ]
  },
  {
   "cell_type": "code",
   "execution_count": 13,
   "id": "e52def5e",
   "metadata": {
    "execution": {
     "iopub.execute_input": "2025-08-16T00:23:10.867832Z",
     "iopub.status.busy": "2025-08-16T00:23:10.867518Z",
     "iopub.status.idle": "2025-08-16T00:23:11.168534Z",
     "shell.execute_reply": "2025-08-16T00:23:11.167189Z"
    },
    "papermill": {
     "duration": 0.31238,
     "end_time": "2025-08-16T00:23:11.170188",
     "exception": false,
     "start_time": "2025-08-16T00:23:10.857808",
     "status": "completed"
    },
    "tags": []
   },
   "outputs": [],
   "source": [
    "#Dimensionality Reduction (Optional but Helpful)\n",
    "#You can use PCA to reduce dimensions for visualization\n",
    "#and sometimes improve clustering performance.\n",
    "\n",
    "from sklearn.decomposition import PCA\n",
    "\n",
    "pca = PCA(n_components=2) #note, i used 3 before\n",
    "\n",
    "X_pca = pca.fit_transform(X_scaled)\n"
   ]
  },
  {
   "cell_type": "code",
   "execution_count": 14,
   "id": "48ab010b",
   "metadata": {
    "execution": {
     "iopub.execute_input": "2025-08-16T00:23:11.187714Z",
     "iopub.status.busy": "2025-08-16T00:23:11.187412Z",
     "iopub.status.idle": "2025-08-16T00:23:11.200327Z",
     "shell.execute_reply": "2025-08-16T00:23:11.199538Z"
    },
    "papermill": {
     "duration": 0.023556,
     "end_time": "2025-08-16T00:23:11.201921",
     "exception": false,
     "start_time": "2025-08-16T00:23:11.178365",
     "status": "completed"
    },
    "tags": []
   },
   "outputs": [
    {
     "data": {
      "text/html": [
       "<div>\n",
       "<style scoped>\n",
       "    .dataframe tbody tr th:only-of-type {\n",
       "        vertical-align: middle;\n",
       "    }\n",
       "\n",
       "    .dataframe tbody tr th {\n",
       "        vertical-align: top;\n",
       "    }\n",
       "\n",
       "    .dataframe thead th {\n",
       "        text-align: right;\n",
       "    }\n",
       "</style>\n",
       "<table border=\"1\" class=\"dataframe\">\n",
       "  <thead>\n",
       "    <tr style=\"text-align: right;\">\n",
       "      <th></th>\n",
       "      <th>PC1</th>\n",
       "      <th>PC2</th>\n",
       "      <th>total_abs</th>\n",
       "    </tr>\n",
       "  </thead>\n",
       "  <tbody>\n",
       "    <tr>\n",
       "      <th>Detergents_Paper</th>\n",
       "      <td>0.548640</td>\n",
       "      <td>-0.255233</td>\n",
       "      <td>0.803873</td>\n",
       "    </tr>\n",
       "    <tr>\n",
       "      <th>Delicassen</th>\n",
       "      <td>0.248682</td>\n",
       "      <td>0.504207</td>\n",
       "      <td>0.752889</td>\n",
       "    </tr>\n",
       "    <tr>\n",
       "      <th>Grocery</th>\n",
       "      <td>0.579256</td>\n",
       "      <td>-0.146088</td>\n",
       "      <td>0.725345</td>\n",
       "    </tr>\n",
       "    <tr>\n",
       "      <th>Frozen</th>\n",
       "      <td>0.051189</td>\n",
       "      <td>0.611278</td>\n",
       "      <td>0.662466</td>\n",
       "    </tr>\n",
       "    <tr>\n",
       "      <th>Milk</th>\n",
       "      <td>0.545118</td>\n",
       "      <td>0.083168</td>\n",
       "      <td>0.628286</td>\n",
       "    </tr>\n",
       "    <tr>\n",
       "      <th>Fresh</th>\n",
       "      <td>0.042884</td>\n",
       "      <td>0.527932</td>\n",
       "      <td>0.570816</td>\n",
       "    </tr>\n",
       "  </tbody>\n",
       "</table>\n",
       "</div>"
      ],
      "text/plain": [
       "                       PC1       PC2  total_abs\n",
       "Detergents_Paper  0.548640 -0.255233   0.803873\n",
       "Delicassen        0.248682  0.504207   0.752889\n",
       "Grocery           0.579256 -0.146088   0.725345\n",
       "Frozen            0.051189  0.611278   0.662466\n",
       "Milk              0.545118  0.083168   0.628286\n",
       "Fresh             0.042884  0.527932   0.570816"
      ]
     },
     "execution_count": 14,
     "metadata": {},
     "output_type": "execute_result"
    }
   ],
   "source": [
    "#check which feature contribute most to pca and drop the less performing features\n",
    "\n",
    "# Create a DataFrame for PCA loadings\n",
    "loadings = pd.DataFrame(\n",
    "    pca.components_.T,\n",
    "    columns=['PC1', 'PC2'],  # same as n_components\n",
    "    index=X.columns\n",
    ")\n",
    "\n",
    "# Get overall importance by summing absolute contributions\n",
    "loadings['total_abs'] = loadings.abs().sum(axis=1)\n",
    "\n",
    "# Sort features by their overall importance\n",
    "loadings.sort_values('total_abs', ascending=False)\n"
   ]
  },
  {
   "cell_type": "code",
   "execution_count": 15,
   "id": "4c483210",
   "metadata": {
    "execution": {
     "iopub.execute_input": "2025-08-16T00:23:11.220199Z",
     "iopub.status.busy": "2025-08-16T00:23:11.219874Z",
     "iopub.status.idle": "2025-08-16T00:23:12.679952Z",
     "shell.execute_reply": "2025-08-16T00:23:12.678903Z"
    },
    "papermill": {
     "duration": 1.471223,
     "end_time": "2025-08-16T00:23:12.681579",
     "exception": false,
     "start_time": "2025-08-16T00:23:11.210356",
     "status": "completed"
    },
    "tags": []
   },
   "outputs": [
    {
     "name": "stdout",
     "output_type": "stream",
     "text": [
      "✅ Best PCA + KMeans Parameters Found:\n",
      "{'n_components': 2, 'n_clusters': 2, 'silhouette_score': 0.6475067411245407}\n"
     ]
    }
   ],
   "source": [
    "#get the best pca components and compare answers\n",
    "\n",
    "from sklearn.cluster import KMeans\n",
    "from sklearn.metrics import silhouette_score \n",
    "\n",
    "best_score = -1\n",
    "best_params = {}\n",
    "\n",
    "# Try different PCA component counts\n",
    "for n_components in range(2, X_scaled.shape[1] + 1):\n",
    "    pca = PCA(n_components=n_components, random_state=42)\n",
    "    X_pca_temp = pca.fit_transform(X_scaled)\n",
    "    \n",
    "    # Try different k values\n",
    "    for k in range(2, 11):\n",
    "        kmeans = KMeans(n_clusters=k, random_state=42, n_init=10)\n",
    "        labels = kmeans.fit_predict(X_pca_temp)\n",
    "        score = silhouette_score(X_pca_temp, labels)\n",
    "        \n",
    "        # Track the best\n",
    "        if score > best_score:\n",
    "            best_score = score\n",
    "            best_params = {\n",
    "                \"n_components\": n_components,\n",
    "                \"n_clusters\": k,\n",
    "                \"silhouette_score\": score\n",
    "            }\n",
    "\n",
    "print(\"✅ Best PCA + KMeans Parameters Found:\")\n",
    "print(best_params)\n"
   ]
  },
  {
   "cell_type": "code",
   "execution_count": 16,
   "id": "5658b40a",
   "metadata": {
    "execution": {
     "iopub.execute_input": "2025-08-16T00:23:12.699947Z",
     "iopub.status.busy": "2025-08-16T00:23:12.699681Z",
     "iopub.status.idle": "2025-08-16T00:23:12.724339Z",
     "shell.execute_reply": "2025-08-16T00:23:12.723590Z"
    },
    "papermill": {
     "duration": 0.03803,
     "end_time": "2025-08-16T00:23:12.727945",
     "exception": false,
     "start_time": "2025-08-16T00:23:12.689915",
     "status": "completed"
    },
    "tags": []
   },
   "outputs": [
    {
     "name": "stderr",
     "output_type": "stream",
     "text": [
      "/usr/local/lib/python3.11/dist-packages/sklearn/cluster/_kmeans.py:870: FutureWarning: The default value of `n_init` will change from 10 to 'auto' in 1.4. Set the value of `n_init` explicitly to suppress the warning\n",
      "  warnings.warn(\n"
     ]
    }
   ],
   "source": [
    "#clustering and evaluation\n",
    "\n",
    "from sklearn.cluster import KMeans\n",
    "\n",
    "kmeans = KMeans(n_clusters=2, random_state=42)\n",
    "kmeans.fit(X_pca)\n",
    "\n",
    "# Cluster labels\n",
    "labels = kmeans.labels_"
   ]
  },
  {
   "cell_type": "code",
   "execution_count": 17,
   "id": "05ae33f2",
   "metadata": {
    "execution": {
     "iopub.execute_input": "2025-08-16T00:23:12.747813Z",
     "iopub.status.busy": "2025-08-16T00:23:12.747565Z",
     "iopub.status.idle": "2025-08-16T00:23:12.757565Z",
     "shell.execute_reply": "2025-08-16T00:23:12.756526Z"
    },
    "papermill": {
     "duration": 0.021018,
     "end_time": "2025-08-16T00:23:12.759246",
     "exception": false,
     "start_time": "2025-08-16T00:23:12.738228",
     "status": "completed"
    },
    "tags": []
   },
   "outputs": [
    {
     "name": "stdout",
     "output_type": "stream",
     "text": [
      "Silhouette Score: 0.648\n"
     ]
    }
   ],
   "source": [
    "#evaluate\n",
    "\n",
    "from sklearn.metrics import silhouette_score \n",
    "\n",
    "score = silhouette_score(X_pca, labels)\n",
    "print(f\"Silhouette Score: {score:.3f}\")"
   ]
  },
  {
   "cell_type": "code",
   "execution_count": 18,
   "id": "908d0a4a",
   "metadata": {
    "execution": {
     "iopub.execute_input": "2025-08-16T00:23:12.777886Z",
     "iopub.status.busy": "2025-08-16T00:23:12.777592Z",
     "iopub.status.idle": "2025-08-16T00:23:12.798845Z",
     "shell.execute_reply": "2025-08-16T00:23:12.798062Z"
    },
    "papermill": {
     "duration": 0.034995,
     "end_time": "2025-08-16T00:23:12.802641",
     "exception": false,
     "start_time": "2025-08-16T00:23:12.767646",
     "status": "completed"
    },
    "tags": []
   },
   "outputs": [
    {
     "name": "stderr",
     "output_type": "stream",
     "text": [
      "/usr/local/lib/python3.11/dist-packages/sklearn/cluster/_kmeans.py:870: FutureWarning: The default value of `n_init` will change from 10 to 'auto' in 1.4. Set the value of `n_init` explicitly to suppress the warning\n",
      "  warnings.warn(\n"
     ]
    }
   ],
   "source": [
    "#get cluster labels\n",
    "\n",
    "cluster_labels = kmeans.fit_predict(X_pca)\n",
    "\n",
    "#attach cluster labels to original data\n",
    "df_clusters = df.copy()\n",
    "df_clusters['Cluster'] = cluster_labels\n"
   ]
  },
  {
   "cell_type": "code",
   "execution_count": 19,
   "id": "7f9349bd",
   "metadata": {
    "execution": {
     "iopub.execute_input": "2025-08-16T00:23:12.822041Z",
     "iopub.status.busy": "2025-08-16T00:23:12.821312Z",
     "iopub.status.idle": "2025-08-16T00:23:12.833618Z",
     "shell.execute_reply": "2025-08-16T00:23:12.832572Z"
    },
    "papermill": {
     "duration": 0.022949,
     "end_time": "2025-08-16T00:23:12.834973",
     "exception": false,
     "start_time": "2025-08-16T00:23:12.812024",
     "status": "completed"
    },
    "tags": []
   },
   "outputs": [
    {
     "data": {
      "text/html": [
       "<div>\n",
       "<style scoped>\n",
       "    .dataframe tbody tr th:only-of-type {\n",
       "        vertical-align: middle;\n",
       "    }\n",
       "\n",
       "    .dataframe tbody tr th {\n",
       "        vertical-align: top;\n",
       "    }\n",
       "\n",
       "    .dataframe thead th {\n",
       "        text-align: right;\n",
       "    }\n",
       "</style>\n",
       "<table border=\"1\" class=\"dataframe\">\n",
       "  <thead>\n",
       "    <tr style=\"text-align: right;\">\n",
       "      <th></th>\n",
       "      <th>Channel</th>\n",
       "      <th>Region</th>\n",
       "      <th>Fresh</th>\n",
       "      <th>Milk</th>\n",
       "      <th>Grocery</th>\n",
       "      <th>Frozen</th>\n",
       "      <th>Detergents_Paper</th>\n",
       "      <th>Delicassen</th>\n",
       "      <th>Cluster</th>\n",
       "    </tr>\n",
       "  </thead>\n",
       "  <tbody>\n",
       "    <tr>\n",
       "      <th>0</th>\n",
       "      <td>2</td>\n",
       "      <td>3</td>\n",
       "      <td>12669</td>\n",
       "      <td>9656</td>\n",
       "      <td>7561</td>\n",
       "      <td>214</td>\n",
       "      <td>2674</td>\n",
       "      <td>1338</td>\n",
       "      <td>0</td>\n",
       "    </tr>\n",
       "    <tr>\n",
       "      <th>1</th>\n",
       "      <td>2</td>\n",
       "      <td>3</td>\n",
       "      <td>7057</td>\n",
       "      <td>9810</td>\n",
       "      <td>9568</td>\n",
       "      <td>1762</td>\n",
       "      <td>3293</td>\n",
       "      <td>1776</td>\n",
       "      <td>0</td>\n",
       "    </tr>\n",
       "    <tr>\n",
       "      <th>2</th>\n",
       "      <td>2</td>\n",
       "      <td>3</td>\n",
       "      <td>6353</td>\n",
       "      <td>8808</td>\n",
       "      <td>7684</td>\n",
       "      <td>2405</td>\n",
       "      <td>3516</td>\n",
       "      <td>7844</td>\n",
       "      <td>0</td>\n",
       "    </tr>\n",
       "    <tr>\n",
       "      <th>3</th>\n",
       "      <td>1</td>\n",
       "      <td>3</td>\n",
       "      <td>13265</td>\n",
       "      <td>1196</td>\n",
       "      <td>4221</td>\n",
       "      <td>6404</td>\n",
       "      <td>507</td>\n",
       "      <td>1788</td>\n",
       "      <td>0</td>\n",
       "    </tr>\n",
       "    <tr>\n",
       "      <th>4</th>\n",
       "      <td>2</td>\n",
       "      <td>3</td>\n",
       "      <td>22615</td>\n",
       "      <td>5410</td>\n",
       "      <td>7198</td>\n",
       "      <td>3915</td>\n",
       "      <td>1777</td>\n",
       "      <td>5185</td>\n",
       "      <td>0</td>\n",
       "    </tr>\n",
       "    <tr>\n",
       "      <th>...</th>\n",
       "      <td>...</td>\n",
       "      <td>...</td>\n",
       "      <td>...</td>\n",
       "      <td>...</td>\n",
       "      <td>...</td>\n",
       "      <td>...</td>\n",
       "      <td>...</td>\n",
       "      <td>...</td>\n",
       "      <td>...</td>\n",
       "    </tr>\n",
       "    <tr>\n",
       "      <th>435</th>\n",
       "      <td>1</td>\n",
       "      <td>3</td>\n",
       "      <td>29703</td>\n",
       "      <td>12051</td>\n",
       "      <td>16027</td>\n",
       "      <td>13135</td>\n",
       "      <td>182</td>\n",
       "      <td>2204</td>\n",
       "      <td>0</td>\n",
       "    </tr>\n",
       "    <tr>\n",
       "      <th>436</th>\n",
       "      <td>1</td>\n",
       "      <td>3</td>\n",
       "      <td>39228</td>\n",
       "      <td>1431</td>\n",
       "      <td>764</td>\n",
       "      <td>4510</td>\n",
       "      <td>93</td>\n",
       "      <td>2346</td>\n",
       "      <td>0</td>\n",
       "    </tr>\n",
       "    <tr>\n",
       "      <th>437</th>\n",
       "      <td>2</td>\n",
       "      <td>3</td>\n",
       "      <td>14531</td>\n",
       "      <td>15488</td>\n",
       "      <td>30243</td>\n",
       "      <td>437</td>\n",
       "      <td>14841</td>\n",
       "      <td>1867</td>\n",
       "      <td>1</td>\n",
       "    </tr>\n",
       "    <tr>\n",
       "      <th>438</th>\n",
       "      <td>1</td>\n",
       "      <td>3</td>\n",
       "      <td>10290</td>\n",
       "      <td>1981</td>\n",
       "      <td>2232</td>\n",
       "      <td>1038</td>\n",
       "      <td>168</td>\n",
       "      <td>2125</td>\n",
       "      <td>0</td>\n",
       "    </tr>\n",
       "    <tr>\n",
       "      <th>439</th>\n",
       "      <td>1</td>\n",
       "      <td>3</td>\n",
       "      <td>2787</td>\n",
       "      <td>1698</td>\n",
       "      <td>2510</td>\n",
       "      <td>65</td>\n",
       "      <td>477</td>\n",
       "      <td>52</td>\n",
       "      <td>0</td>\n",
       "    </tr>\n",
       "  </tbody>\n",
       "</table>\n",
       "<p>440 rows × 9 columns</p>\n",
       "</div>"
      ],
      "text/plain": [
       "     Channel  Region  Fresh   Milk  Grocery  Frozen  Detergents_Paper  \\\n",
       "0          2       3  12669   9656     7561     214              2674   \n",
       "1          2       3   7057   9810     9568    1762              3293   \n",
       "2          2       3   6353   8808     7684    2405              3516   \n",
       "3          1       3  13265   1196     4221    6404               507   \n",
       "4          2       3  22615   5410     7198    3915              1777   \n",
       "..       ...     ...    ...    ...      ...     ...               ...   \n",
       "435        1       3  29703  12051    16027   13135               182   \n",
       "436        1       3  39228   1431      764    4510                93   \n",
       "437        2       3  14531  15488    30243     437             14841   \n",
       "438        1       3  10290   1981     2232    1038               168   \n",
       "439        1       3   2787   1698     2510      65               477   \n",
       "\n",
       "     Delicassen  Cluster  \n",
       "0          1338        0  \n",
       "1          1776        0  \n",
       "2          7844        0  \n",
       "3          1788        0  \n",
       "4          5185        0  \n",
       "..          ...      ...  \n",
       "435        2204        0  \n",
       "436        2346        0  \n",
       "437        1867        1  \n",
       "438        2125        0  \n",
       "439          52        0  \n",
       "\n",
       "[440 rows x 9 columns]"
      ]
     },
     "execution_count": 19,
     "metadata": {},
     "output_type": "execute_result"
    }
   ],
   "source": [
    "df_clusters\n"
   ]
  },
  {
   "cell_type": "code",
   "execution_count": 20,
   "id": "7d6019db",
   "metadata": {
    "execution": {
     "iopub.execute_input": "2025-08-16T00:23:12.854649Z",
     "iopub.status.busy": "2025-08-16T00:23:12.854284Z",
     "iopub.status.idle": "2025-08-16T00:23:13.122406Z",
     "shell.execute_reply": "2025-08-16T00:23:13.121378Z"
    },
    "papermill": {
     "duration": 0.279421,
     "end_time": "2025-08-16T00:23:13.123724",
     "exception": false,
     "start_time": "2025-08-16T00:23:12.844303",
     "status": "completed"
    },
    "tags": []
   },
   "outputs": [
    {
     "data": {
      "image/png": "[encoded data removed]",
      "text/plain": [
       "<Figure size 800x600 with 1 Axes>"
      ]
     },
     "metadata": {},
     "output_type": "display_data"
    }
   ],
   "source": [
    "#plot the cluster summary\n",
    "\n",
    "plt.figure(figsize=(8,6))\n",
    "plt.scatter(X_pca[:,0], X_pca[:,1], c=cluster_labels, cmap='viridis', s=50)\n",
    "plt.xlabel('PCA 1')\n",
    "plt.ylabel('PCA 2')\n",
    "plt.title('Clusters in PCA space')\n",
    "plt.show()\n"
   ]
  },
  {
   "cell_type": "markdown",
   "id": "6ddcb6fa",
   "metadata": {
    "papermill": {
     "duration": 0.008983,
     "end_time": "2025-08-16T00:23:13.142217",
     "exception": false,
     "start_time": "2025-08-16T00:23:13.133234",
     "status": "completed"
    },
    "tags": []
   },
   "source": [
    "**Create a Cluster Profile Table**"
   ]
  },
  {
   "cell_type": "code",
   "execution_count": 21,
   "id": "49a6f21d",
   "metadata": {
    "execution": {
     "iopub.execute_input": "2025-08-16T00:23:13.162470Z",
     "iopub.status.busy": "2025-08-16T00:23:13.161735Z",
     "iopub.status.idle": "2025-08-16T00:23:13.178454Z",
     "shell.execute_reply": "2025-08-16T00:23:13.177193Z"
    },
    "papermill": {
     "duration": 0.028297,
     "end_time": "2025-08-16T00:23:13.179970",
     "exception": false,
     "start_time": "2025-08-16T00:23:13.151673",
     "status": "completed"
    },
    "tags": []
   },
   "outputs": [
    {
     "name": "stdout",
     "output_type": "stream",
     "text": [
      "Cluster Counts:\n",
      " Cluster\n",
      "0    399\n",
      "1     41\n",
      "Name: count, dtype: int64\n",
      "\n",
      "Cluster Profile:\n",
      "           Channel    Region         Fresh          Milk       Grocery  \\\n",
      "Cluster                                                                 \n",
      "0        1.258145  2.551378  12010.105263   4229.636591   5724.684211   \n",
      "1        1.951220  2.463415  11904.853659  21042.243902  29619.829268   \n",
      "\n",
      "              Frozen  Detergents_Paper   Delicassen  \n",
      "Cluster                                              \n",
      "0        3062.070175       1776.062657  1305.944862  \n",
      "1        3167.902439      13639.219512  3655.390244  \n"
     ]
    }
   ],
   "source": [
    "# Profile each cluster\n",
    "cluster_profile = df_clusters.groupby('Cluster').mean()\n",
    "\n",
    "# If you want counts too:\n",
    "cluster_counts = df_clusters['Cluster'].value_counts().sort_index()\n",
    "\n",
    "print(\"Cluster Counts:\\n\", cluster_counts)\n",
    "print(\"\\nCluster Profile:\\n\", cluster_profile)\n"
   ]
  },
  {
   "cell_type": "markdown",
   "id": "42d5be17",
   "metadata": {
    "papermill": {
     "duration": 0.009599,
     "end_time": "2025-08-16T00:23:13.201519",
     "exception": false,
     "start_time": "2025-08-16T00:23:13.191920",
     "status": "completed"
    },
    "tags": []
   },
   "source": [
    "** Cluster 0 (411 records)\n",
    "\n",
    "1. Represents the majority of customers (over 90%).\n",
    "\n",
    "a. Moderate to low spending across all categories.\n",
    "\n",
    "b. Typical of smaller retailers or individual customers.\n",
    "\n",
    "2. Cluster 1 (29 records)\n",
    "\n",
    "a. Smaller group of customers.\n",
    "\n",
    "b. Extremely high spending in Milk, Grocery, Detergents_Paper.\n",
    "\n",
    "Likely large supermarkets or wholesale buyers.**"
   ]
  },
  {
   "cell_type": "code",
   "execution_count": 22,
   "id": "ffe500b3",
   "metadata": {
    "execution": {
     "iopub.execute_input": "2025-08-16T00:23:13.221745Z",
     "iopub.status.busy": "2025-08-16T00:23:13.221432Z",
     "iopub.status.idle": "2025-08-16T00:23:13.231752Z",
     "shell.execute_reply": "2025-08-16T00:23:13.230680Z"
    },
    "papermill": {
     "duration": 0.022424,
     "end_time": "2025-08-16T00:23:13.233072",
     "exception": false,
     "start_time": "2025-08-16T00:23:13.210648",
     "status": "completed"
    },
    "tags": []
   },
   "outputs": [
    {
     "name": "stdout",
     "output_type": "stream",
     "text": [
      "   Channel  Region  Fresh   Milk  Grocery  Frozen  Detergents_Paper  \\\n",
      "0        2       3  12669   9656     7561     214              2674   \n",
      "1        2       3   7057   9810     9568    1762              3293   \n",
      "2        2       3   6353   8808     7684    2405              3516   \n",
      "3        1       3  13265   1196     4221    6404               507   \n",
      "4        2       3  22615   5410     7198    3915              1777   \n",
      "5        2       3   9413   8259     5126     666              1795   \n",
      "6        2       3  12126   3199     6975     480              3140   \n",
      "7        2       3   7579   4956     9426    1669              3321   \n",
      "8        1       3   5963   3648     6192     425              1716   \n",
      "9        2       3   6006  11093    18881    1159              7425   \n",
      "\n",
      "   Delicassen  Cluster    Insight  \n",
      "0        1338        0  Retailers  \n",
      "1        1776        0  Retailers  \n",
      "2        7844        0  Retailers  \n",
      "3        1788        0  Retailers  \n",
      "4        5185        0  Retailers  \n",
      "5        1451        0  Retailers  \n",
      "6         545        0  Retailers  \n",
      "7        2566        0  Retailers  \n",
      "8         750        0  Retailers  \n",
      "9        2098        0  Retailers  \n"
     ]
    }
   ],
   "source": [
    "# Define a mapping from cluster to insight\n",
    "\n",
    "cluster_insights = {\n",
    "    0: \"Retailers\",\n",
    "    1: \"Wholesalers\"\n",
    "}\n",
    "\n",
    "# Add a new column to the dataframe\n",
    "df_clusters['Insight'] = df_clusters['Cluster'].map(cluster_insights)\n",
    "\n",
    "# Check the result\n",
    "print(df_clusters.head(10))\n"
   ]
  },
  {
   "cell_type": "code",
   "execution_count": 23,
   "id": "369717a3",
   "metadata": {
    "execution": {
     "iopub.execute_input": "2025-08-16T00:23:13.253225Z",
     "iopub.status.busy": "2025-08-16T00:23:13.252880Z",
     "iopub.status.idle": "2025-08-16T00:23:13.470987Z",
     "shell.execute_reply": "2025-08-16T00:23:13.470156Z"
    },
    "papermill": {
     "duration": 0.23024,
     "end_time": "2025-08-16T00:23:13.472619",
     "exception": false,
     "start_time": "2025-08-16T00:23:13.242379",
     "status": "completed"
    },
    "tags": []
   },
   "outputs": [
    {
     "data": {
      "image/png": "[encoded data removed]",
      "text/plain": [
       "<Figure size 1000x500 with 2 Axes>"
      ]
     },
     "metadata": {},
     "output_type": "display_data"
    }
   ],
   "source": [
    "#Optional: Heatmap for quick visual comparison\n",
    "\n",
    "plt.figure(figsize=(10,5))\n",
    "sns.heatmap(cluster_profile, annot=True, fmt=\".0f\", cmap='YlGnBu')\n",
    "plt.title('Cluster Feature Profile Heatmap')\n",
    "plt.show()\n"
   ]
  },
  {
   "cell_type": "code",
   "execution_count": null,
   "id": "7ebadf04",
   "metadata": {
    "papermill": {
     "duration": 0.010076,
     "end_time": "2025-08-16T00:23:13.494028",
     "exception": false,
     "start_time": "2025-08-16T00:23:13.483952",
     "status": "completed"
    },
    "tags": []
   },
   "outputs": [],
   "source": []
  },
  {
   "cell_type": "code",
   "execution_count": null,
   "id": "c1e56aaf",
   "metadata": {
    "papermill": {
     "duration": 0.009986,
     "end_time": "2025-08-16T00:23:13.514301",
     "exception": false,
     "start_time": "2025-08-16T00:23:13.504315",
     "status": "completed"
    },
    "tags": []
   },
   "outputs": [],
   "source": []
  },
  {
   "cell_type": "code",
   "execution_count": null,
   "id": "2ffa2dde",
   "metadata": {
    "papermill": {
     "duration": 0.009778,
     "end_time": "2025-08-16T00:23:13.533954",
     "exception": false,
     "start_time": "2025-08-16T00:23:13.524176",
     "status": "completed"
    },
    "tags": []
   },
   "outputs": [],
   "source": []
  }
 ],
 "metadata": {
  "kaggle": {
   "accelerator": "none",
   "dataSources": [
    {
     "datasetId": 20922,
     "sourceId": 26985,
     "sourceType": "datasetVersion"
    }
   ],
   "dockerImageVersionId": 31089,
   "isGpuEnabled": false,
   "isInternetEnabled": true,
   "language": "python",
   "sourceType": "notebook"
  },
  "kernelspec": {
   "display_name": "Python 3",
   "language": "python",
   "name": "python3"
  },
  "language_info": {
   "codemirror_mode": {
    "name": "ipython",
    "version": 3
   },
   "file_extension": ".py",
   "mimetype": "text/x-python",
   "name": "python",
   "nbconvert_exporter": "python",
   "pygments_lexer": "ipython3",
   "version": "3.11.13"
  },
  "papermill": {
   "default_parameters": {},
   "duration": 13.921557,
   "end_time": "2025-08-16T00:23:14.163733",
   "environment_variables": {},
   "exception": null,
   "input_path": "__notebook__.ipynb",
   "output_path": "__notebook__.ipynb",
   "parameters": {},
   "start_time": "2025-08-16T00:23:00.242176",
   "version": "2.6.0"
  }
 },
 "nbformat": 4,
 "nbformat_minor": 5
}
